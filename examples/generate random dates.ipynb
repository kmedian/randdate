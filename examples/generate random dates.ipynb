{
 "cells": [
  {
   "cell_type": "code",
   "execution_count": 1,
   "metadata": {
    "ExecuteTime": {
     "end_time": "2018-07-17T16:02:16.711251Z",
     "start_time": "2018-07-17T16:02:16.697282Z"
    }
   },
   "outputs": [],
   "source": [
    "import sys\n",
    "sys.path.append('..')\n",
    "\n",
    "from randdate import randdate\n",
    "from random import seed; seed(42);"
   ]
  },
  {
   "cell_type": "markdown",
   "metadata": {},
   "source": [
    "### A specfic number of any random date \n",
    "Create five random dates"
   ]
  },
  {
   "cell_type": "code",
   "execution_count": 2,
   "metadata": {
    "ExecuteTime": {
     "end_time": "2018-07-17T16:02:16.741034Z",
     "start_time": "2018-07-17T16:02:16.715182Z"
    }
   },
   "outputs": [
    {
     "data": {
      "text/plain": [
       "[datetime.datetime(2001, 3, 18, 15, 16, 17, 355602),\n",
       " datetime.datetime(1971, 3, 22, 22, 18, 7, 393055),\n",
       " datetime.datetime(1983, 6, 5, 6, 14, 49, 233365),\n",
       " datetime.datetime(1980, 11, 23, 9, 44, 3, 243984),\n",
       " datetime.datetime(2005, 12, 12, 17, 28, 20, 893936)]"
      ]
     },
     "execution_count": 2,
     "metadata": {},
     "output_type": "execute_result"
    }
   ],
   "source": [
    "d = randdate(5)\n",
    "d"
   ]
  },
  {
   "cell_type": "markdown",
   "metadata": {},
   "source": [
    "### Specific range of dates\n",
    "Only dates between a certain range"
   ]
  },
  {
   "cell_type": "code",
   "execution_count": 3,
   "metadata": {
    "ExecuteTime": {
     "end_time": "2018-07-17T16:02:16.756062Z",
     "start_time": "2018-07-17T16:02:16.746068Z"
    }
   },
   "outputs": [
    {
     "data": {
      "text/plain": [
       "[datetime.datetime(1987, 6, 21, 18, 24, 28, 357133),\n",
       " datetime.datetime(1987, 6, 23, 22, 7, 23, 146497),\n",
       " datetime.datetime(1987, 6, 15, 20, 51, 55, 151392),\n",
       " datetime.datetime(1987, 6, 19, 5, 15, 40, 452208),\n",
       " datetime.datetime(1987, 6, 15, 7, 9, 4, 797595),\n",
       " datetime.datetime(1987, 6, 17, 4, 28, 23, 210230),\n",
       " datetime.datetime(1987, 6, 20, 1, 17, 6, 968921)]"
      ]
     },
     "execution_count": 3,
     "metadata": {},
     "output_type": "execute_result"
    }
   ],
   "source": [
    "from datetime import date\n",
    "from time import mktime\n",
    "\n",
    "p1 = mktime(date(1987,6,15).timetuple())\n",
    "p2 = mktime(date(1987,6,25).timetuple())\n",
    "\n",
    "d = randdate(7, posix_start=p1, posix_end=p2)\n",
    "d"
   ]
  }
 ],
 "metadata": {
  "kernelspec": {
   "display_name": "Python 3",
   "language": "python",
   "name": "python3"
  },
  "language_info": {
   "codemirror_mode": {
    "name": "ipython",
    "version": 3
   },
   "file_extension": ".py",
   "mimetype": "text/x-python",
   "name": "python",
   "nbconvert_exporter": "python",
   "pygments_lexer": "ipython3",
   "version": "3.6.2"
  },
  "varInspector": {
   "cols": {
    "lenName": 16,
    "lenType": 16,
    "lenVar": 40
   },
   "kernels_config": {
    "python": {
     "delete_cmd_postfix": "",
     "delete_cmd_prefix": "del ",
     "library": "var_list.py",
     "varRefreshCmd": "print(var_dic_list())"
    },
    "r": {
     "delete_cmd_postfix": ") ",
     "delete_cmd_prefix": "rm(",
     "library": "var_list.r",
     "varRefreshCmd": "cat(var_dic_list()) "
    }
   },
   "types_to_exclude": [
    "module",
    "function",
    "builtin_function_or_method",
    "instance",
    "_Feature"
   ],
   "window_display": false
  }
 },
 "nbformat": 4,
 "nbformat_minor": 2
}
